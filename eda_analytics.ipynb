{
 "cells": [
  {
   "cell_type": "code",
   "execution_count": 1,
   "id": "514fc930",
   "metadata": {},
   "outputs": [
    {
     "name": "stdout",
     "output_type": "stream",
     "text": [
      "  Order ID  Amount  Profit  Quantity     Category      Sub-Category\n",
      "0  B-25601    1275   -1148         7    Furniture         Bookcases\n",
      "1  B-25601      66     -12         5     Clothing             Stole\n",
      "2  B-25601       8      -2         3     Clothing       Hankerchief\n",
      "3  B-25601      80     -56         4  Electronics  Electronic Games\n",
      "4  B-25602     168    -111         2  Electronics            Phones\n",
      "  Month of Order Date   Category   Target\n",
      "0              Apr-18  Furniture  10400.0\n",
      "1              May-18  Furniture  10500.0\n",
      "2              Jun-18  Furniture  10600.0\n",
      "3              Jul-18  Furniture  10800.0\n",
      "4              Aug-18  Furniture  10900.0\n",
      "  Order ID  Order Date CustomerName           State       City\n",
      "0  B-25601  01-04-2018       Bharat         Gujarat  Ahmedabad\n",
      "1  B-25602  01-04-2018        Pearl     Maharashtra       Pune\n",
      "2  B-25603  03-04-2018        Jahan  Madhya Pradesh     Bhopal\n",
      "3  B-25604  03-04-2018       Divsha       Rajasthan     Jaipur\n",
      "4  B-25605  05-04-2018      Kasheen     West Bengal    Kolkata\n"
     ]
    }
   ],
   "source": [
    "import pandas as pd\n",
    "a=\"E:/DA_Projects/jar/List_of_Orders_55FFC79CF8.csv\"\n",
    "b=\"E:/DA_Projects/jar/Sales_target_DD2E9B96A0.csv\"\n",
    "c=\"E:/DA_Projects/jar/Order_Details_19795F61CF.csv\"\n",
    "transactions = pd.read_csv(a)\n",
    "products = pd.read_csv(b)\n",
    "customers = pd.read_csv(c)\n",
    "\n",
    "print(customers.head())\n",
    "print(products.head())\n",
    "print(transactions.head())"
   ]
  },
  {
   "cell_type": "code",
   "execution_count": 2,
   "id": "30a2f32a",
   "metadata": {},
   "outputs": [
    {
     "name": "stdout",
     "output_type": "stream",
     "text": [
      "Basic Info:\n",
      "<class 'pandas.core.frame.DataFrame'>\n",
      "RangeIndex: 500 entries, 0 to 499\n",
      "Data columns (total 5 columns):\n",
      " #   Column        Non-Null Count  Dtype \n",
      "---  ------        --------------  ----- \n",
      " 0   Order ID      500 non-null    object\n",
      " 1   Order Date    500 non-null    object\n",
      " 2   CustomerName  500 non-null    object\n",
      " 3   State         500 non-null    object\n",
      " 4   City          500 non-null    object\n",
      "dtypes: object(5)\n",
      "memory usage: 19.7+ KB\n",
      "None\n"
     ]
    }
   ],
   "source": [
    "file_path = a\n",
    "df = pd.read_csv(file_path)\n",
    "\n",
    "print(\"Basic Info:\")\n",
    "print(df.info())"
   ]
  },
  {
   "cell_type": "code",
   "execution_count": 4,
   "id": "93829fe7",
   "metadata": {},
   "outputs": [
    {
     "name": "stdout",
     "output_type": "stream",
     "text": [
      "Basic Info:\n",
      "<class 'pandas.core.frame.DataFrame'>\n",
      "RangeIndex: 1500 entries, 0 to 1499\n",
      "Data columns (total 6 columns):\n",
      " #   Column        Non-Null Count  Dtype \n",
      "---  ------        --------------  ----- \n",
      " 0   Order ID      1500 non-null   object\n",
      " 1   Amount        1500 non-null   int64 \n",
      " 2   Profit        1500 non-null   int64 \n",
      " 3   Quantity      1500 non-null   int64 \n",
      " 4   Category      1500 non-null   object\n",
      " 5   Sub-Category  1500 non-null   object\n",
      "dtypes: int64(3), object(3)\n",
      "memory usage: 70.4+ KB\n",
      "None\n"
     ]
    }
   ],
   "source": [
    "file_path = c\n",
    "df = pd.read_csv(file_path)\n",
    "\n",
    "print(\"Basic Info:\")\n",
    "print(df.info())"
   ]
  },
  {
   "cell_type": "code",
   "execution_count": 5,
   "id": "02ab1e77",
   "metadata": {},
   "outputs": [
    {
     "name": "stdout",
     "output_type": "stream",
     "text": [
      "Null values in each column:\n",
      "Order ID        0\n",
      "Order Date      0\n",
      "CustomerName    0\n",
      "State           0\n",
      "City            0\n",
      "dtype: int64\n",
      "\n",
      "No null values found in the dataset.\n"
     ]
    }
   ],
   "source": [
    "file_path = a\n",
    "df = pd.read_csv(file_path)\n",
    "null_values = df.isnull().sum()\n",
    "print(\"Null values in each column:\")\n",
    "print(null_values)\n",
    "\n",
    "if null_values.any():\n",
    "    print(\"\\nThere are null values in the dataset.\")\n",
    "else:\n",
    "    print(\"\\nNo null values found in the dataset.\")"
   ]
  },
  {
   "cell_type": "code",
   "execution_count": 6,
   "id": "6ca6f324",
   "metadata": {},
   "outputs": [
    {
     "name": "stdout",
     "output_type": "stream",
     "text": [
      "Null values in each column:\n",
      "Month of Order Date    0\n",
      "Category               0\n",
      "Target                 0\n",
      "dtype: int64\n",
      "\n",
      "No null values found in the dataset.\n"
     ]
    }
   ],
   "source": [
    "file_path = b\n",
    "df = pd.read_csv(file_path)\n",
    "null_values = df.isnull().sum()\n",
    "print(\"Null values in each column:\")\n",
    "print(null_values)\n",
    "\n",
    "if null_values.any():\n",
    "    print(\"\\nThere are null values in the dataset.\")\n",
    "else:\n",
    "    print(\"\\nNo null values found in the dataset.\")"
   ]
  },
  {
   "cell_type": "code",
   "execution_count": 7,
   "id": "bac38cdd",
   "metadata": {},
   "outputs": [
    {
     "name": "stdout",
     "output_type": "stream",
     "text": [
      "Null values in each column:\n",
      "Order ID        0\n",
      "Amount          0\n",
      "Profit          0\n",
      "Quantity        0\n",
      "Category        0\n",
      "Sub-Category    0\n",
      "dtype: int64\n",
      "\n",
      "No null values found in the dataset.\n"
     ]
    }
   ],
   "source": [
    "file_path = c\n",
    "df = pd.read_csv(file_path)\n",
    "null_values = df.isnull().sum()\n",
    "print(\"Null values in each column:\")\n",
    "print(null_values)\n",
    "\n",
    "if null_values.any():\n",
    "    print(\"\\nThere are null values in the dataset.\")\n",
    "else:\n",
    "    print(\"\\nNo null values found in the dataset.\")"
   ]
  },
  {
   "cell_type": "code",
   "execution_count": 8,
   "id": "45443058",
   "metadata": {},
   "outputs": [
    {
     "name": "stdout",
     "output_type": "stream",
     "text": [
      "Number of duplicate rows: 0\n",
      "\n",
      "No duplicate rows found.\n"
     ]
    }
   ],
   "source": [
    "file_path = a\n",
    "df = pd.read_csv(file_path)\n",
    "duplicates = df.duplicated().sum()\n",
    "print(f\"Number of duplicate rows: {duplicates}\")\n",
    "if duplicates > 0:\n",
    "    print(\"\\nDuplicate rows:\")\n",
    "    print(df[df.duplicated()])\n",
    "else:\n",
    "    print(\"\\nNo duplicate rows found.\")\n"
   ]
  },
  {
   "cell_type": "code",
   "execution_count": 9,
   "id": "beefaa4a",
   "metadata": {},
   "outputs": [
    {
     "name": "stdout",
     "output_type": "stream",
     "text": [
      "Number of duplicate rows: 0\n",
      "\n",
      "No duplicate rows found.\n"
     ]
    }
   ],
   "source": [
    "file_path = b\n",
    "df = pd.read_csv(file_path)\n",
    "duplicates = df.duplicated().sum()\n",
    "print(f\"Number of duplicate rows: {duplicates}\")\n",
    "if duplicates > 0:\n",
    "    print(\"\\nDuplicate rows:\")\n",
    "    print(df[df.duplicated()])\n",
    "else:\n",
    "    print(\"\\nNo duplicate rows found.\")\n"
   ]
  },
  {
   "cell_type": "code",
   "execution_count": 10,
   "id": "93bfc49e",
   "metadata": {},
   "outputs": [
    {
     "name": "stdout",
     "output_type": "stream",
     "text": [
      "Number of duplicate rows: 0\n",
      "\n",
      "No duplicate rows found.\n"
     ]
    }
   ],
   "source": [
    "file_path = c\n",
    "df = pd.read_csv(file_path)\n",
    "duplicates = df.duplicated().sum()\n",
    "print(f\"Number of duplicate rows: {duplicates}\")\n",
    "if duplicates > 0:\n",
    "    print(\"\\nDuplicate rows:\")\n",
    "    print(df[df.duplicated()])\n",
    "else:\n",
    "    print(\"\\nNo duplicate rows found.\")\n"
   ]
  },
  {
   "cell_type": "code",
   "execution_count": 50,
   "id": "be57d0cc",
   "metadata": {},
   "outputs": [],
   "source": [
    "#Part 1 : Sales and Profitability Analysis"
   ]
  },
  {
   "cell_type": "code",
   "execution_count": 12,
   "id": "d7d7bbcf",
   "metadata": {},
   "outputs": [
    {
     "name": "stdout",
     "output_type": "stream",
     "text": [
      "     Order ID  Amount  Profit  Quantity     Category      Sub-Category  \\\n",
      "0     B-25601    1275   -1148         7    Furniture         Bookcases   \n",
      "1     B-25601      66     -12         5     Clothing             Stole   \n",
      "2     B-25601       8      -2         3     Clothing       Hankerchief   \n",
      "3     B-25601      80     -56         4  Electronics  Electronic Games   \n",
      "4     B-25602     168    -111         2  Electronics            Phones   \n",
      "...       ...     ...     ...       ...          ...               ...   \n",
      "1495  B-26099     835     267         5  Electronics            Phones   \n",
      "1496  B-26099    2366     552         5     Clothing          Trousers   \n",
      "1497  B-26100     828     230         2    Furniture            Chairs   \n",
      "1498  B-26100      34      10         2     Clothing           T-shirt   \n",
      "1499  B-26100      72      16         2     Clothing             Shirt   \n",
      "\n",
      "      Order Date CustomerName           State       City  \n",
      "0     01-04-2018       Bharat         Gujarat  Ahmedabad  \n",
      "1     01-04-2018       Bharat         Gujarat  Ahmedabad  \n",
      "2     01-04-2018       Bharat         Gujarat  Ahmedabad  \n",
      "3     01-04-2018       Bharat         Gujarat  Ahmedabad  \n",
      "4     01-04-2018        Pearl     Maharashtra       Pune  \n",
      "...          ...          ...             ...        ...  \n",
      "1495  30-03-2019       Bhishm     Maharashtra     Mumbai  \n",
      "1496  30-03-2019       Bhishm     Maharashtra     Mumbai  \n",
      "1497  31-03-2019       Hitika  Madhya Pradesh     Indore  \n",
      "1498  31-03-2019       Hitika  Madhya Pradesh     Indore  \n",
      "1499  31-03-2019       Hitika  Madhya Pradesh     Indore  \n",
      "\n",
      "[1500 rows x 10 columns]\n"
     ]
    }
   ],
   "source": [
    "transactions = pd.read_csv(c)\n",
    "customers = pd.read_csv(a)\n",
    "merged_df = pd.merge(transactions, customers, on=\"Order ID\", how=\"left\")\n",
    "print(merged_df)\n",
    "merged_df.to_csv(\"E:\\DA_Projects\\jar\\mergerd_orders.csv\", index=False)"
   ]
  },
  {
   "cell_type": "code",
   "execution_count": 13,
   "id": "80825433",
   "metadata": {},
   "outputs": [],
   "source": [
    "d=\"E:\\DA_Projects\\jar\\mergerd_orders.csv\""
   ]
  },
  {
   "cell_type": "code",
   "execution_count": 14,
   "id": "af715d51",
   "metadata": {},
   "outputs": [
    {
     "name": "stdout",
     "output_type": "stream",
     "text": [
      "Basic Info:\n",
      "<class 'pandas.core.frame.DataFrame'>\n",
      "RangeIndex: 1500 entries, 0 to 1499\n",
      "Data columns (total 10 columns):\n",
      " #   Column        Non-Null Count  Dtype \n",
      "---  ------        --------------  ----- \n",
      " 0   Order ID      1500 non-null   object\n",
      " 1   Amount        1500 non-null   int64 \n",
      " 2   Profit        1500 non-null   int64 \n",
      " 3   Quantity      1500 non-null   int64 \n",
      " 4   Category      1500 non-null   object\n",
      " 5   Sub-Category  1500 non-null   object\n",
      " 6   Order Date    1500 non-null   object\n",
      " 7   CustomerName  1500 non-null   object\n",
      " 8   State         1500 non-null   object\n",
      " 9   City          1500 non-null   object\n",
      "dtypes: int64(3), object(7)\n",
      "memory usage: 117.3+ KB\n",
      "None\n"
     ]
    }
   ],
   "source": [
    "df = pd.read_csv(d)\n",
    "\n",
    "print(\"Basic Info:\")\n",
    "print(df.info())"
   ]
  },
  {
   "cell_type": "code",
   "execution_count": 15,
   "id": "68f14f42",
   "metadata": {},
   "outputs": [
    {
     "name": "stdout",
     "output_type": "stream",
     "text": [
      "Category\n",
      "Clothing       139054\n",
      "Electronics    165267\n",
      "Furniture      127181\n",
      "Name: Amount, dtype: int64\n"
     ]
    }
   ],
   "source": [
    "revenue_by_category=df.groupby(\"Category\")[\"Amount\"].sum()\n",
    "print(revenue_by_category)"
   ]
  },
  {
   "cell_type": "code",
   "execution_count": 40,
   "id": "55d287d7",
   "metadata": {
    "scrolled": true
   },
   "outputs": [
    {
     "name": "stdout",
     "output_type": "stream",
     "text": [
      "Sub-Category\n",
      "Accessories         21728\n",
      "Bookcases           56861\n",
      "Chairs              34222\n",
      "Electronic Games    39168\n",
      "Furnishings         13484\n",
      "Hankerchief         14608\n",
      "Kurti                3361\n",
      "Leggings             2106\n",
      "Phones              46119\n",
      "Printers            58252\n",
      "Saree               53511\n",
      "Shirt                7555\n",
      "Skirt                1946\n",
      "Stole               18546\n",
      "T-shirt              7382\n",
      "Tables              22614\n",
      "Trousers            30039\n",
      "Name: Amount, dtype: int64\n"
     ]
    }
   ],
   "source": [
    "revenue_by_sub_category=df.groupby(\"Sub-Category\")[\"Amount\"].sum()\n",
    "print(revenue_by_sub_category)"
   ]
  },
  {
   "cell_type": "code",
   "execution_count": 20,
   "id": "f713b71a",
   "metadata": {},
   "outputs": [
    {
     "name": "stdout",
     "output_type": "stream",
     "text": [
      "Category\n",
      "Clothing       11.762908\n",
      "Electronics    34.071429\n",
      "Furniture       9.456790\n",
      "Name: Profit, dtype: float64\n"
     ]
    }
   ],
   "source": [
    "profit_category=df.groupby(\"Category\")[\"Profit\"].mean()\n",
    "print(profit_category)"
   ]
  },
  {
   "cell_type": "code",
   "execution_count": 21,
   "id": "4cd4fa5e",
   "metadata": {},
   "outputs": [
    {
     "name": "stdout",
     "output_type": "stream",
     "text": [
      "Sub-Category\n",
      "Accessories          49.430556\n",
      "Bookcases            61.873418\n",
      "Chairs                7.797297\n",
      "Electronic Games    -15.645570\n",
      "Furnishings          11.561644\n",
      "Hankerchief          10.595960\n",
      "Kurti                 3.851064\n",
      "Leggings              4.905660\n",
      "Phones               26.590361\n",
      "Printers             80.594595\n",
      "Saree                 1.676190\n",
      "Shirt                16.391304\n",
      "Skirt                 3.671875\n",
      "Stole                13.328125\n",
      "T-shirt              19.480519\n",
      "Tables             -235.941176\n",
      "Trousers             73.000000\n",
      "Name: Profit, dtype: float64\n"
     ]
    }
   ],
   "source": [
    "profit_category=df.groupby(\"Sub-Category\")[\"Profit\"].mean()\n",
    "print(profit_category)"
   ]
  },
  {
   "cell_type": "code",
   "execution_count": 23,
   "id": "c0b36142",
   "metadata": {},
   "outputs": [
    {
     "name": "stdout",
     "output_type": "stream",
     "text": [
      "Category\n",
      "Clothing       11163\n",
      "Electronics    10494\n",
      "Furniture       2298\n",
      "Name: Profit, dtype: int64\n"
     ]
    }
   ],
   "source": [
    "total_profit_category=df.groupby(\"Category\")[\"Profit\"].sum()\n",
    "print(total_profit_category)"
   ]
  },
  {
   "cell_type": "code",
   "execution_count": 24,
   "id": "579c761f",
   "metadata": {},
   "outputs": [
    {
     "name": "stdout",
     "output_type": "stream",
     "text": [
      "Sub-Category\n",
      "Accessories         3559\n",
      "Bookcases           4888\n",
      "Chairs               577\n",
      "Electronic Games   -1236\n",
      "Furnishings          844\n",
      "Hankerchief         2098\n",
      "Kurti                181\n",
      "Leggings             260\n",
      "Phones              2207\n",
      "Printers            5964\n",
      "Saree                352\n",
      "Shirt               1131\n",
      "Skirt                235\n",
      "Stole               2559\n",
      "T-shirt             1500\n",
      "Tables             -4011\n",
      "Trousers            2847\n",
      "Name: Profit, dtype: int64\n"
     ]
    }
   ],
   "source": [
    "total_profit_sub_category=df.groupby(\"Sub-Category\")[\"Profit\"].sum()\n",
    "print(total_profit_sub_category)"
   ]
  },
  {
   "cell_type": "code",
   "execution_count": 46,
   "id": "d73ad8d7",
   "metadata": {},
   "outputs": [
    {
     "name": "stdout",
     "output_type": "stream",
     "text": [
      "Total Profit Margin (%) by  Category\n",
      "Clothing       8.027817\n",
      "Electronics    6.349725\n",
      "Furniture      1.806874\n",
      "dtype: float64\n"
     ]
    }
   ],
   "source": [
    "Profit_margin_by_category=((total_profit_category/revenue_by_category)*100).sort_values(ascending=False)\n",
    "print(\"Total Profit Margin (%) by \",Profit_margin_by_category)"
   ]
  },
  {
   "cell_type": "code",
   "execution_count": 45,
   "id": "b78d4ee5",
   "metadata": {},
   "outputs": [
    {
     "name": "stdout",
     "output_type": "stream",
     "text": [
      "Total Profit Margin (%) by Sub-Category\n",
      "T-shirt             20.319697\n",
      "Accessories         16.379786\n",
      "Shirt               14.970218\n",
      "Hankerchief         14.361993\n",
      "Stole               13.798124\n",
      "Leggings            12.345679\n",
      "Skirt               12.076053\n",
      "Printers            10.238275\n",
      "Trousers             9.477679\n",
      "Bookcases            8.596402\n",
      "Furnishings          6.259270\n",
      "Kurti                5.385302\n",
      "Phones               4.785446\n",
      "Chairs               1.686050\n",
      "Saree                0.657809\n",
      "Electronic Games    -3.155637\n",
      "Tables             -17.736800\n",
      "dtype: float64\n"
     ]
    }
   ],
   "source": [
    "profitmargin_subcategory=((total_profit_sub_category / revenue_by_sub_category) * 100).sort_values(ascending=False)\n",
    "print(\"Total Profit Margin (%) by\",profitmargin_subcategory)"
   ]
  },
  {
   "cell_type": "code",
   "execution_count": 48,
   "id": "78bc1e71",
   "metadata": {},
   "outputs": [],
   "source": [
    "#Part 2 : Target Achievement Analysis"
   ]
  },
  {
   "cell_type": "code",
   "execution_count": 51,
   "id": "4b237c59",
   "metadata": {},
   "outputs": [
    {
     "name": "stdout",
     "output_type": "stream",
     "text": [
      "Basic Info:\n",
      "<class 'pandas.core.frame.DataFrame'>\n",
      "RangeIndex: 36 entries, 0 to 35\n",
      "Data columns (total 3 columns):\n",
      " #   Column               Non-Null Count  Dtype  \n",
      "---  ------               --------------  -----  \n",
      " 0   Month of Order Date  36 non-null     object \n",
      " 1   Category             36 non-null     object \n",
      " 2   Target               36 non-null     float64\n",
      "dtypes: float64(1), object(2)\n",
      "memory usage: 992.0+ bytes\n",
      "None\n"
     ]
    }
   ],
   "source": [
    "file_path = b\n",
    "df = pd.read_csv(file_path)\n",
    "\n",
    "print(\"Basic Info:\")\n",
    "print(df.info())"
   ]
  },
  {
   "cell_type": "code",
   "execution_count": 52,
   "id": "9aa2bcfa",
   "metadata": {},
   "outputs": [
    {
     "data": {
      "text/html": [
       "<div>\n",
       "<style scoped>\n",
       "    .dataframe tbody tr th:only-of-type {\n",
       "        vertical-align: middle;\n",
       "    }\n",
       "\n",
       "    .dataframe tbody tr th {\n",
       "        vertical-align: top;\n",
       "    }\n",
       "\n",
       "    .dataframe thead th {\n",
       "        text-align: right;\n",
       "    }\n",
       "</style>\n",
       "<table border=\"1\" class=\"dataframe\">\n",
       "  <thead>\n",
       "    <tr style=\"text-align: right;\">\n",
       "      <th></th>\n",
       "      <th>Month of Order Date</th>\n",
       "      <th>Category</th>\n",
       "      <th>Target</th>\n",
       "    </tr>\n",
       "  </thead>\n",
       "  <tbody>\n",
       "    <tr>\n",
       "      <th>0</th>\n",
       "      <td>Apr-18</td>\n",
       "      <td>Furniture</td>\n",
       "      <td>10400.0</td>\n",
       "    </tr>\n",
       "    <tr>\n",
       "      <th>1</th>\n",
       "      <td>May-18</td>\n",
       "      <td>Furniture</td>\n",
       "      <td>10500.0</td>\n",
       "    </tr>\n",
       "    <tr>\n",
       "      <th>2</th>\n",
       "      <td>Jun-18</td>\n",
       "      <td>Furniture</td>\n",
       "      <td>10600.0</td>\n",
       "    </tr>\n",
       "    <tr>\n",
       "      <th>3</th>\n",
       "      <td>Jul-18</td>\n",
       "      <td>Furniture</td>\n",
       "      <td>10800.0</td>\n",
       "    </tr>\n",
       "    <tr>\n",
       "      <th>4</th>\n",
       "      <td>Aug-18</td>\n",
       "      <td>Furniture</td>\n",
       "      <td>10900.0</td>\n",
       "    </tr>\n",
       "  </tbody>\n",
       "</table>\n",
       "</div>"
      ],
      "text/plain": [
       "  Month of Order Date   Category   Target\n",
       "0              Apr-18  Furniture  10400.0\n",
       "1              May-18  Furniture  10500.0\n",
       "2              Jun-18  Furniture  10600.0\n",
       "3              Jul-18  Furniture  10800.0\n",
       "4              Aug-18  Furniture  10900.0"
      ]
     },
     "execution_count": 52,
     "metadata": {},
     "output_type": "execute_result"
    }
   ],
   "source": [
    "df.head()"
   ]
  },
  {
   "cell_type": "code",
   "execution_count": 62,
   "id": "7b4c8729",
   "metadata": {},
   "outputs": [
    {
     "name": "stdout",
     "output_type": "stream",
     "text": [
      "Category\n",
      "Clothing       174000.0\n",
      "Electronics    129000.0\n",
      "Furniture      132900.0\n",
      "Name: Target, dtype: float64\n"
     ]
    }
   ],
   "source": [
    "target_by_category=df.groupby(\"Category\")[\"Target\"].sum()\n",
    "print(target_by_category)"
   ]
  },
  {
   "cell_type": "code",
   "execution_count": 86,
   "id": "95d875aa",
   "metadata": {},
   "outputs": [
    {
     "name": "stdout",
     "output_type": "stream",
     "text": [
      "Month of Order Date\n",
      "2018-04         NaN\n",
      "2018-05    0.961538\n",
      "2018-06    0.952381\n",
      "2018-07    1.886792\n",
      "2018-08    0.925926\n",
      "2018-09    0.917431\n",
      "2018-10    0.909091\n",
      "2018-11    1.801802\n",
      "2018-12    0.884956\n",
      "2019-01    0.877193\n",
      "2019-02    0.869565\n",
      "2019-03    1.724138\n",
      "Freq: M, Name: Target, dtype: float64\n"
     ]
    },
    {
     "name": "stderr",
     "output_type": "stream",
     "text": [
      "C:\\Users\\mayan\\AppData\\Local\\Temp\\ipykernel_7692\\1605533114.py:2: SettingWithCopyWarning: \n",
      "A value is trying to be set on a copy of a slice from a DataFrame.\n",
      "Try using .loc[row_indexer,col_indexer] = value instead\n",
      "\n",
      "See the caveats in the documentation: https://pandas.pydata.org/pandas-docs/stable/user_guide/indexing.html#returning-a-view-versus-a-copy\n",
      "  x['Month of Order Date'] = pd.to_datetime(x['Month of Order Date'], format='%b-%y')\n"
     ]
    }
   ],
   "source": [
    "x = df[df['Category'] == 'Furniture']\n",
    "x['Month of Order Date'] = pd.to_datetime(x['Month of Order Date'], format='%b-%y')\n",
    "m_sales = x.groupby(furniture_df['Month of Order Date'].dt.to_period('M'))['Target'].sum()\n",
    "m_sales_pct = m_sales.pct_change() * 100\n",
    "print(m_sales_pct)\n"
   ]
  },
  {
   "cell_type": "code",
   "execution_count": null,
   "id": "e1e9d384",
   "metadata": {},
   "outputs": [],
   "source": [
    "#Part 3 : Regional Performance Insights"
   ]
  },
  {
   "cell_type": "code",
   "execution_count": null,
   "id": "e9338ce8",
   "metadata": {},
   "outputs": [],
   "source": []
  },
  {
   "cell_type": "code",
   "execution_count": null,
   "id": "4114c13d",
   "metadata": {},
   "outputs": [],
   "source": []
  },
  {
   "cell_type": "code",
   "execution_count": null,
   "id": "94bf58fe",
   "metadata": {},
   "outputs": [],
   "source": []
  },
  {
   "cell_type": "code",
   "execution_count": null,
   "id": "7b42e86c",
   "metadata": {},
   "outputs": [],
   "source": []
  },
  {
   "cell_type": "code",
   "execution_count": null,
   "id": "0fa0e710",
   "metadata": {},
   "outputs": [],
   "source": []
  },
  {
   "cell_type": "code",
   "execution_count": null,
   "id": "48f8aa4a",
   "metadata": {},
   "outputs": [],
   "source": []
  },
  {
   "cell_type": "code",
   "execution_count": null,
   "id": "fb67aea1",
   "metadata": {},
   "outputs": [],
   "source": []
  },
  {
   "cell_type": "code",
   "execution_count": null,
   "id": "6f7f1fc2",
   "metadata": {},
   "outputs": [],
   "source": []
  },
  {
   "cell_type": "code",
   "execution_count": null,
   "id": "2b06036c",
   "metadata": {},
   "outputs": [],
   "source": []
  },
  {
   "cell_type": "code",
   "execution_count": null,
   "id": "023a7a30",
   "metadata": {},
   "outputs": [],
   "source": []
  },
  {
   "cell_type": "code",
   "execution_count": null,
   "id": "ecca698b",
   "metadata": {},
   "outputs": [],
   "source": []
  },
  {
   "cell_type": "code",
   "execution_count": null,
   "id": "e2a6e48b",
   "metadata": {},
   "outputs": [],
   "source": []
  },
  {
   "cell_type": "code",
   "execution_count": null,
   "id": "677bf9b5",
   "metadata": {},
   "outputs": [],
   "source": []
  },
  {
   "cell_type": "code",
   "execution_count": null,
   "id": "5fcae791",
   "metadata": {},
   "outputs": [],
   "source": []
  }
 ],
 "metadata": {
  "kernelspec": {
   "display_name": "Python 3 (ipykernel)",
   "language": "python",
   "name": "python3"
  },
  "language_info": {
   "codemirror_mode": {
    "name": "ipython",
    "version": 3
   },
   "file_extension": ".py",
   "mimetype": "text/x-python",
   "name": "python",
   "nbconvert_exporter": "python",
   "pygments_lexer": "ipython3",
   "version": "3.9.13"
  }
 },
 "nbformat": 4,
 "nbformat_minor": 5
}
